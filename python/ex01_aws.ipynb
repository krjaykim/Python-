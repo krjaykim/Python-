{
 "cells": [
  {
   "cell_type": "code",
   "execution_count": 2,
   "id": "b2905ce5",
   "metadata": {
    "scrolled": true
   },
   "outputs": [
    {
     "name": "stdout",
     "output_type": "stream",
     "text": [
      "Requirement already satisfied: flask in c:\\users\\smhrd\\anaconda3\\lib\\site-packages (1.1.2)\n",
      "Requirement already satisfied: itsdangerous>=0.24 in c:\\users\\smhrd\\anaconda3\\lib\\site-packages (from flask) (2.0.1)\n",
      "Requirement already satisfied: click>=5.1 in c:\\users\\smhrd\\anaconda3\\lib\\site-packages (from flask) (8.0.3)\n",
      "Requirement already satisfied: Werkzeug>=0.15 in c:\\users\\smhrd\\anaconda3\\lib\\site-packages (from flask) (2.0.2)\n",
      "Requirement already satisfied: Jinja2>=2.10.1 in c:\\users\\smhrd\\anaconda3\\lib\\site-packages (from flask) (2.11.3)\n",
      "Requirement already satisfied: colorama in c:\\users\\smhrd\\anaconda3\\lib\\site-packages (from click>=5.1->flask) (0.4.4)\n",
      "Requirement already satisfied: MarkupSafe>=0.23 in c:\\users\\smhrd\\anaconda3\\lib\\site-packages (from Jinja2>=2.10.1->flask) (1.1.1)\n"
     ]
    }
   ],
   "source": [
    "!pip3 install flask"
   ]
  },
  {
   "cell_type": "code",
   "execution_count": 7,
   "id": "221a93dd",
   "metadata": {},
   "outputs": [
    {
     "name": "stdout",
     "output_type": "stream",
     "text": [
      "Collecting boto3\n",
      "  Downloading boto3-1.21.19-py3-none-any.whl (132 kB)\n",
      "Collecting botocore<1.25.0,>=1.24.19\n",
      "  Downloading botocore-1.24.19-py3-none-any.whl (8.6 MB)\n",
      "Collecting s3transfer<0.6.0,>=0.5.0\n",
      "  Downloading s3transfer-0.5.2-py3-none-any.whl (79 kB)\n",
      "Collecting jmespath<1.0.0,>=0.7.1\n",
      "  Downloading jmespath-0.10.0-py2.py3-none-any.whl (24 kB)\n",
      "Requirement already satisfied: urllib3<1.27,>=1.25.4 in c:\\users\\smhrd\\anaconda3\\lib\\site-packages (from botocore<1.25.0,>=1.24.19->boto3) (1.26.7)\n",
      "Requirement already satisfied: python-dateutil<3.0.0,>=2.1 in c:\\users\\smhrd\\anaconda3\\lib\\site-packages (from botocore<1.25.0,>=1.24.19->boto3) (2.8.2)\n",
      "Requirement already satisfied: six>=1.5 in c:\\users\\smhrd\\anaconda3\\lib\\site-packages (from python-dateutil<3.0.0,>=2.1->botocore<1.25.0,>=1.24.19->boto3) (1.16.0)\n",
      "Installing collected packages: jmespath, botocore, s3transfer, boto3\n",
      "Successfully installed boto3-1.21.19 botocore-1.24.19 jmespath-0.10.0 s3transfer-0.5.2\n"
     ]
    }
   ],
   "source": [
    "!pip install boto3"
   ]
  },
  {
   "cell_type": "code",
   "execution_count": null,
   "id": "d0141628",
   "metadata": {},
   "outputs": [
    {
     "name": "stdout",
     "output_type": "stream",
     "text": [
      " * Serving Flask app \"__main__\" (lazy loading)\n",
      " * Environment: production\n",
      "\u001b[31m   WARNING: This is a development server. Do not use it in a production deployment.\u001b[0m\n",
      "\u001b[2m   Use a production WSGI server instead.\u001b[0m\n",
      " * Debug mode: off\n"
     ]
    },
    {
     "name": "stderr",
     "output_type": "stream",
     "text": [
      " * Running on http://172.30.1.7:5050/ (Press CTRL+C to quit)\n",
      "172.30.1.7 - - [15/Mar/2022 17:32:23] \"GET / HTTP/1.1\" 200 -\n",
      "[2022-03-15 17:32:27,732] ERROR in app: Exception on /object [POST]\n",
      "Traceback (most recent call last):\n",
      "  File \"C:\\Users\\SMHRD\\anaconda3\\lib\\site-packages\\flask\\app.py\", line 2447, in wsgi_app\n",
      "    response = self.full_dispatch_request()\n",
      "  File \"C:\\Users\\SMHRD\\anaconda3\\lib\\site-packages\\flask\\app.py\", line 1952, in full_dispatch_request\n",
      "    rv = self.handle_user_exception(e)\n",
      "  File \"C:\\Users\\SMHRD\\anaconda3\\lib\\site-packages\\flask\\app.py\", line 1821, in handle_user_exception\n",
      "    reraise(exc_type, exc_value, tb)\n",
      "  File \"C:\\Users\\SMHRD\\anaconda3\\lib\\site-packages\\flask\\_compat.py\", line 39, in reraise\n",
      "    raise value\n",
      "  File \"C:\\Users\\SMHRD\\anaconda3\\lib\\site-packages\\flask\\app.py\", line 1950, in full_dispatch_request\n",
      "    rv = self.dispatch_request()\n",
      "  File \"C:\\Users\\SMHRD\\anaconda3\\lib\\site-packages\\flask\\app.py\", line 1936, in dispatch_request\n",
      "    return self.view_functions[rule.endpoint](**req.view_args)\n",
      "  File \"C:\\Users\\SMHRD\\AppData\\Local\\Temp/ipykernel_936/878938073.py\", line 21, in detect\n",
      "    result = detect_labels_local_file(f.filename)\n",
      "  File \"C:\\Users\\SMHRD\\AppData\\Local\\Temp/ipykernel_936/2321709921.py\", line 8, in detect_labels_local_file\n",
      "    with open(photo, 'rb') as image:\n",
      "FileNotFoundError: [Errno 2] No such file or directory: 'ESP8266 NodeMCU WiFi(시리얼 와이파이 모듈).jpg'\n",
      "172.30.1.7 - - [15/Mar/2022 17:32:27] \"POST /object HTTP/1.1\" 500 -\n"
     ]
    },
    {
     "name": "stdout",
     "output_type": "stream",
     "text": [
      "POST방식으로 요청됨\n"
     ]
    },
    {
     "name": "stderr",
     "output_type": "stream",
     "text": [
      "172.30.1.7 - - [15/Mar/2022 17:33:57] \"GET / HTTP/1.1\" 200 -\n"
     ]
    },
    {
     "name": "stdout",
     "output_type": "stream",
     "text": [
      "POST방식으로 요청됨\n"
     ]
    },
    {
     "name": "stderr",
     "output_type": "stream",
     "text": [
      "172.30.1.7 - - [15/Mar/2022 17:34:02] \"POST /object HTTP/1.1\" 200 -\n"
     ]
    },
    {
     "name": "stdout",
     "output_type": "stream",
     "text": [
      "Detected labels in WS2812.png\n"
     ]
    }
   ],
   "source": [
    "from flask import Flask, render_template, request\n",
    "from werkzeug.utils import secure_filename\n",
    "\n",
    "app = Flask(__name__)\n",
    "\n",
    "@app.route('/')\n",
    "def hello():\n",
    "    return render_template('main.html')\n",
    "\n",
    "@app.route('/object', methods=['GET','POST'])\n",
    "def detect():\n",
    "    if request.method == 'GET':\n",
    "        print('GET방식으로 요청됨')\n",
    "        request.args['키값']\n",
    "    elif request.method == 'POST':\n",
    "        print('POST방식으로 요청됨')\n",
    "        # reqeust.form['키값']\n",
    "        f = request.files['file']\n",
    "        f.save(secure_filename(f.filename))\n",
    "        \n",
    "        result = detect_labels_local_file(f.filename)\n",
    "        return result\n",
    "        \n",
    "        \n",
    "if __name__ == '__main__':\n",
    "    app.run(host='172.30.1.7', port=5050)"
   ]
  },
  {
   "cell_type": "code",
   "execution_count": 12,
   "id": "c9a72cf8",
   "metadata": {},
   "outputs": [
    {
     "name": "stdout",
     "output_type": "stream",
     "text": [
      "메인함수 호출됨\n"
     ]
    }
   ],
   "source": [
    "import boto3\n",
    "\n",
    "def detect_labels_local_file(photo):\n",
    "\n",
    "\n",
    "    client=boto3.client('rekognition')\n",
    "   \n",
    "    with open(photo, 'rb') as image:\n",
    "        response = client.detect_labels(Image={'Bytes': image.read()})\n",
    "        \n",
    "    print('Detected labels in ' + photo)   \n",
    "    \n",
    "    result = ''\n",
    "    \n",
    "    \n",
    "    for label in response['Labels']:\n",
    "        result += (label['Name'] + ' : ' + str(label['Confidence']))\n",
    "        result += '<br>'\n",
    "        \n",
    "    return result\n",
    "\n",
    "def main():\n",
    "    photo='wow.jpg'\n",
    "    print('메인함수 호출됨')\n",
    "    \n",
    "    #label_count=detect_labels_local_file(photo)\n",
    "    #print(\"Labels detected: \" + str(label_count))\n",
    "\n",
    "\n",
    "if __name__ == \"__main__\":\n",
    "    main()"
   ]
  },
  {
   "cell_type": "code",
   "execution_count": null,
   "id": "ab5d1d23",
   "metadata": {},
   "outputs": [],
   "source": []
  }
 ],
 "metadata": {
  "kernelspec": {
   "display_name": "Python 3 (ipykernel)",
   "language": "python",
   "name": "python3"
  },
  "language_info": {
   "codemirror_mode": {
    "name": "ipython",
    "version": 3
   },
   "file_extension": ".py",
   "mimetype": "text/x-python",
   "name": "python",
   "nbconvert_exporter": "python",
   "pygments_lexer": "ipython3",
   "version": "3.9.7"
  }
 },
 "nbformat": 4,
 "nbformat_minor": 5
}
