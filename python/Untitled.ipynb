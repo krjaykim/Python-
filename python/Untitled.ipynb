{
 "cells": [
  {
   "cell_type": "code",
   "execution_count": 4,
   "id": "40d261b9",
   "metadata": {
    "scrolled": false
   },
   "outputs": [
    {
     "name": "stdout",
     "output_type": "stream",
     "text": [
      "합격입니다\n",
      "불합격입니다\n",
      "합격입니다\n",
      "합격입니다\n",
      "불합격입니다\n"
     ]
    }
   ],
   "source": [
    "score_list = [90,45,70,60,55]\n",
    "for num in score_list:\n",
    "    if num >=60 :\n",
    "        print('합격입니다')\n",
    "    else:\n",
    "        print('불합격입니다')"
   ]
  }
 ],
 "metadata": {
  "kernelspec": {
   "display_name": "Python 3 (ipykernel)",
   "language": "python",
   "name": "python3"
  },
  "language_info": {
   "codemirror_mode": {
    "name": "ipython",
    "version": 3
   },
   "file_extension": ".py",
   "mimetype": "text/x-python",
   "name": "python",
   "nbconvert_exporter": "python",
   "pygments_lexer": "ipython3",
   "version": "3.9.7"
  }
 },
 "nbformat": 4,
 "nbformat_minor": 5
}
