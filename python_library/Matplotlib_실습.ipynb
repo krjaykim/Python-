{
 "cells": [
  {
   "cell_type": "code",
   "execution_count": 1,
   "id": "7a759194",
   "metadata": {},
   "outputs": [],
   "source": [
    "import pandas as pd\n",
    "import matplotlib.pyplot as plt"
   ]
  },
  {
   "cell_type": "code",
   "execution_count": 2,
   "id": "57b52e91",
   "metadata": {},
   "outputs": [],
   "source": [
    "data = pd.read_csv('data/Traffic_Accident_2017.csv', encoding = 'euc-kr')"
   ]
  },
  {
   "cell_type": "code",
   "execution_count": 5,
   "id": "4fcb5927",
   "metadata": {},
   "outputs": [
    {
     "data": {
      "text/html": [
       "<div>\n",
       "<style scoped>\n",
       "    .dataframe tbody tr th:only-of-type {\n",
       "        vertical-align: middle;\n",
       "    }\n",
       "\n",
       "    .dataframe tbody tr th {\n",
       "        vertical-align: top;\n",
       "    }\n",
       "\n",
       "    .dataframe thead th {\n",
       "        text-align: right;\n",
       "    }\n",
       "</style>\n",
       "<table border=\"1\" class=\"dataframe\">\n",
       "  <thead>\n",
       "    <tr style=\"text-align: right;\">\n",
       "      <th></th>\n",
       "      <th>발생년</th>\n",
       "      <th>발생년월일시</th>\n",
       "      <th>발생분</th>\n",
       "      <th>주야</th>\n",
       "      <th>요일</th>\n",
       "      <th>사망자수</th>\n",
       "      <th>사상자수</th>\n",
       "      <th>중상자수</th>\n",
       "      <th>경상자수</th>\n",
       "      <th>부상신고자수</th>\n",
       "      <th>...</th>\n",
       "      <th>도로형태_대분류</th>\n",
       "      <th>도로형태</th>\n",
       "      <th>당사자종별_1당_대분류</th>\n",
       "      <th>당사자종별_1당</th>\n",
       "      <th>당사자종별_2당_대분류</th>\n",
       "      <th>당사자종별_2당</th>\n",
       "      <th>발생위치X_UTMK</th>\n",
       "      <th>발생위치Y_UTMK</th>\n",
       "      <th>경도</th>\n",
       "      <th>위도</th>\n",
       "    </tr>\n",
       "  </thead>\n",
       "  <tbody>\n",
       "    <tr>\n",
       "      <th>0</th>\n",
       "      <td>2017</td>\n",
       "      <td>2017010101</td>\n",
       "      <td>15</td>\n",
       "      <td>야간</td>\n",
       "      <td>일</td>\n",
       "      <td>1</td>\n",
       "      <td>2</td>\n",
       "      <td>1</td>\n",
       "      <td>0</td>\n",
       "      <td>0</td>\n",
       "      <td>...</td>\n",
       "      <td>단일로</td>\n",
       "      <td>기타단일로</td>\n",
       "      <td>승용차</td>\n",
       "      <td>승용차</td>\n",
       "      <td>승용차</td>\n",
       "      <td>승용차</td>\n",
       "      <td>933501</td>\n",
       "      <td>1700129</td>\n",
       "      <td>126.768634</td>\n",
       "      <td>35.294464</td>\n",
       "    </tr>\n",
       "    <tr>\n",
       "      <th>1</th>\n",
       "      <td>2017</td>\n",
       "      <td>2017010102</td>\n",
       "      <td>28</td>\n",
       "      <td>야간</td>\n",
       "      <td>일</td>\n",
       "      <td>1</td>\n",
       "      <td>1</td>\n",
       "      <td>0</td>\n",
       "      <td>0</td>\n",
       "      <td>0</td>\n",
       "      <td>...</td>\n",
       "      <td>교차로</td>\n",
       "      <td>교차로부근</td>\n",
       "      <td>승용차</td>\n",
       "      <td>승용차</td>\n",
       "      <td>보행자</td>\n",
       "      <td>보행자</td>\n",
       "      <td>967570</td>\n",
       "      <td>1944453</td>\n",
       "      <td>127.133107</td>\n",
       "      <td>37.498741</td>\n",
       "    </tr>\n",
       "    <tr>\n",
       "      <th>2</th>\n",
       "      <td>2017</td>\n",
       "      <td>2017010102</td>\n",
       "      <td>43</td>\n",
       "      <td>야간</td>\n",
       "      <td>일</td>\n",
       "      <td>1</td>\n",
       "      <td>2</td>\n",
       "      <td>0</td>\n",
       "      <td>1</td>\n",
       "      <td>0</td>\n",
       "      <td>...</td>\n",
       "      <td>단일로</td>\n",
       "      <td>기타단일로</td>\n",
       "      <td>승용차</td>\n",
       "      <td>승용차</td>\n",
       "      <td>승용차</td>\n",
       "      <td>승용차</td>\n",
       "      <td>916497</td>\n",
       "      <td>1842880</td>\n",
       "      <td>126.566631</td>\n",
       "      <td>36.580069</td>\n",
       "    </tr>\n",
       "  </tbody>\n",
       "</table>\n",
       "<p>3 rows × 27 columns</p>\n",
       "</div>"
      ],
      "text/plain": [
       "    발생년      발생년월일시  발생분  주야 요일  사망자수  사상자수  중상자수  경상자수  부상신고자수  ... 도로형태_대분류  \\\n",
       "0  2017  2017010101   15  야간  일     1     2     1     0       0  ...      단일로   \n",
       "1  2017  2017010102   28  야간  일     1     1     0     0       0  ...      교차로   \n",
       "2  2017  2017010102   43  야간  일     1     2     0     1       0  ...      단일로   \n",
       "\n",
       "    도로형태 당사자종별_1당_대분류 당사자종별_1당 당사자종별_2당_대분류 당사자종별_2당 발생위치X_UTMK 발생위치Y_UTMK  \\\n",
       "0  기타단일로          승용차      승용차          승용차      승용차     933501    1700129   \n",
       "1  교차로부근          승용차      승용차          보행자      보행자     967570    1944453   \n",
       "2  기타단일로          승용차      승용차          승용차      승용차     916497    1842880   \n",
       "\n",
       "           경도         위도  \n",
       "0  126.768634  35.294464  \n",
       "1  127.133107  37.498741  \n",
       "2  126.566631  36.580069  \n",
       "\n",
       "[3 rows x 27 columns]"
      ]
     },
     "execution_count": 5,
     "metadata": {},
     "output_type": "execute_result"
    }
   ],
   "source": [
    "data.head(3)"
   ]
  },
  {
   "cell_type": "code",
   "execution_count": 6,
   "id": "c5fa4d12",
   "metadata": {},
   "outputs": [
    {
     "name": "stdout",
     "output_type": "stream",
     "text": [
      "<class 'pandas.core.frame.DataFrame'>\n",
      "RangeIndex: 4065 entries, 0 to 4064\n",
      "Data columns (total 27 columns):\n",
      " #   Column        Non-Null Count  Dtype  \n",
      "---  ------        --------------  -----  \n",
      " 0   발생년           4065 non-null   int64  \n",
      " 1   발생년월일시        4065 non-null   int64  \n",
      " 2   발생분           4065 non-null   int64  \n",
      " 3   주야            4065 non-null   object \n",
      " 4   요일            4065 non-null   object \n",
      " 5   사망자수          4065 non-null   int64  \n",
      " 6   사상자수          4065 non-null   int64  \n",
      " 7   중상자수          4065 non-null   int64  \n",
      " 8   경상자수          4065 non-null   int64  \n",
      " 9   부상신고자수        4065 non-null   int64  \n",
      " 10  발생지시도         4065 non-null   object \n",
      " 11  발생지시군구        4065 non-null   object \n",
      " 12  사고유형_대분류      4065 non-null   object \n",
      " 13  사고유형_중분류      4065 non-null   object \n",
      " 14  사고유형          4065 non-null   object \n",
      " 15  법규위반_대분류      4065 non-null   object \n",
      " 16  법규위반          4065 non-null   object \n",
      " 17  도로형태_대분류      4065 non-null   object \n",
      " 18  도로형태          4065 non-null   object \n",
      " 19  당사자종별_1당_대분류  4065 non-null   object \n",
      " 20  당사자종별_1당      4065 non-null   object \n",
      " 21  당사자종별_2당_대분류  4065 non-null   object \n",
      " 22  당사자종별_2당      4065 non-null   object \n",
      " 23  발생위치X_UTMK    4065 non-null   int64  \n",
      " 24  발생위치Y_UTMK    4065 non-null   int64  \n",
      " 25  경도            4065 non-null   float64\n",
      " 26  위도            4065 non-null   float64\n",
      "dtypes: float64(2), int64(10), object(15)\n",
      "memory usage: 857.6+ KB\n"
     ]
    }
   ],
   "source": [
    "data.info()"
   ]
  },
  {
   "cell_type": "code",
   "execution_count": 13,
   "id": "3251c524",
   "metadata": {},
   "outputs": [],
   "source": [
    "y = data['요일'].value_counts()"
   ]
  },
  {
   "cell_type": "code",
   "execution_count": 16,
   "id": "bb6760d2",
   "metadata": {},
   "outputs": [
    {
     "data": {
      "text/plain": [
       "월    603\n",
       "화    608\n",
       "수    565\n",
       "목    586\n",
       "금    603\n",
       "토    596\n",
       "일    504\n",
       "Name: 요일, dtype: int64"
      ]
     },
     "execution_count": 16,
     "metadata": {},
     "output_type": "execute_result"
    }
   ],
   "source": [
    "y = y[['월','화','수','목','금','토','일']]\n",
    "y"
   ]
  },
  {
   "cell_type": "code",
   "execution_count": 24,
   "id": "a9015cee",
   "metadata": {},
   "outputs": [],
   "source": [
    "from matplotlib import font_manager, rc"
   ]
  },
  {
   "cell_type": "code",
   "execution_count": 26,
   "id": "2fc42e23",
   "metadata": {},
   "outputs": [],
   "source": [
    "rc('font',family='Gulim')"
   ]
  },
  {
   "cell_type": "code",
   "execution_count": 28,
   "id": "28d209de",
   "metadata": {},
   "outputs": [
    {
     "data": {
      "image/png": "[encoded data removed]",
      "text/plain": [
       "<Figure size 432x288 with 1 Axes>"
      ]
     },
     "metadata": {
      "needs_background": "light"
     },
     "output_type": "display_data"
    }
   ],
   "source": [
    "# 데이터를 활용하여 그래프 그리기\n",
    "x = range(7)\n",
    "x_label = ['월','화','수','목','금','토','일']\n",
    "plt.bar(x, y)\n",
    "plt.ylim(500,600)\n",
    "plt.show()"
   ]
  },
  {
   "cell_type": "code",
   "execution_count": 29,
   "id": "6c2608b4",
   "metadata": {},
   "outputs": [
    {
     "data": {
      "image/png": "[encoded data removed]",
      "text/plain": [
       "<Figure size 432x288 with 1 Axes>"
      ]
     },
     "metadata": {
      "needs_background": "light"
     },
     "output_type": "display_data"
    }
   ],
   "source": [
    "x = range(7)\n",
    "plt.bar(x, y)\n",
    "\n",
    "plt.xticks(x, ['월','화','수','목','금','토','일'])\n",
    "plt.title('요일별 사망교통사고 건수')\n",
    "\n",
    "plt.ylim(500,620)\n",
    "plt.show()"
   ]
  },
  {
   "cell_type": "code",
   "execution_count": 34,
   "id": "cf95e9a7",
   "metadata": {},
   "outputs": [],
   "source": [
    "car_to_car = data[data['사고유형_대분류'] == '차대차']"
   ]
  },
  {
   "cell_type": "code",
   "execution_count": 35,
   "id": "5cb43c87",
   "metadata": {},
   "outputs": [
    {
     "data": {
      "text/html": [
       "<div>\n",
       "<style scoped>\n",
       "    .dataframe tbody tr th:only-of-type {\n",
       "        vertical-align: middle;\n",
       "    }\n",
       "\n",
       "    .dataframe tbody tr th {\n",
       "        vertical-align: top;\n",
       "    }\n",
       "\n",
       "    .dataframe thead th {\n",
       "        text-align: right;\n",
       "    }\n",
       "</style>\n",
       "<table border=\"1\" class=\"dataframe\">\n",
       "  <thead>\n",
       "    <tr style=\"text-align: right;\">\n",
       "      <th></th>\n",
       "      <th>사상자수</th>\n",
       "      <th>발생지시도</th>\n",
       "    </tr>\n",
       "  </thead>\n",
       "  <tbody>\n",
       "    <tr>\n",
       "      <th>0</th>\n",
       "      <td>2</td>\n",
       "      <td>전남</td>\n",
       "    </tr>\n",
       "    <tr>\n",
       "      <th>2</th>\n",
       "      <td>2</td>\n",
       "      <td>충남</td>\n",
       "    </tr>\n",
       "    <tr>\n",
       "      <th>8</th>\n",
       "      <td>3</td>\n",
       "      <td>제주</td>\n",
       "    </tr>\n",
       "    <tr>\n",
       "      <th>9</th>\n",
       "      <td>7</td>\n",
       "      <td>충남</td>\n",
       "    </tr>\n",
       "    <tr>\n",
       "      <th>17</th>\n",
       "      <td>2</td>\n",
       "      <td>경북</td>\n",
       "    </tr>\n",
       "    <tr>\n",
       "      <th>...</th>\n",
       "      <td>...</td>\n",
       "      <td>...</td>\n",
       "    </tr>\n",
       "    <tr>\n",
       "      <th>4050</th>\n",
       "      <td>1</td>\n",
       "      <td>경남</td>\n",
       "    </tr>\n",
       "    <tr>\n",
       "      <th>4055</th>\n",
       "      <td>6</td>\n",
       "      <td>광주</td>\n",
       "    </tr>\n",
       "    <tr>\n",
       "      <th>4058</th>\n",
       "      <td>1</td>\n",
       "      <td>경북</td>\n",
       "    </tr>\n",
       "    <tr>\n",
       "      <th>4060</th>\n",
       "      <td>4</td>\n",
       "      <td>경남</td>\n",
       "    </tr>\n",
       "    <tr>\n",
       "      <th>4063</th>\n",
       "      <td>11</td>\n",
       "      <td>경기</td>\n",
       "    </tr>\n",
       "  </tbody>\n",
       "</table>\n",
       "<p>1642 rows × 2 columns</p>\n",
       "</div>"
      ],
      "text/plain": [
       "      사상자수 발생지시도\n",
       "0        2    전남\n",
       "2        2    충남\n",
       "8        3    제주\n",
       "9        7    충남\n",
       "17       2    경북\n",
       "...    ...   ...\n",
       "4050     1    경남\n",
       "4055     6    광주\n",
       "4058     1    경북\n",
       "4060     4    경남\n",
       "4063    11    경기\n",
       "\n",
       "[1642 rows x 2 columns]"
      ]
     },
     "execution_count": 35,
     "metadata": {},
     "output_type": "execute_result"
    }
   ],
   "source": [
    "car_to_car[['사상자수','발생지시도']]"
   ]
  },
  {
   "cell_type": "code",
   "execution_count": 38,
   "id": "1ce33428",
   "metadata": {},
   "outputs": [],
   "source": [
    "# 발생지시도별 총계 구하기\n",
    "result = car_to_car[['사상자수','발생지시도']].groupby('발생지시도').sum()"
   ]
  },
  {
   "cell_type": "code",
   "execution_count": 39,
   "id": "250a1af8",
   "metadata": {},
   "outputs": [
    {
     "data": {
      "text/html": [
       "<div>\n",
       "<style scoped>\n",
       "    .dataframe tbody tr th:only-of-type {\n",
       "        vertical-align: middle;\n",
       "    }\n",
       "\n",
       "    .dataframe tbody tr th {\n",
       "        vertical-align: top;\n",
       "    }\n",
       "\n",
       "    .dataframe thead th {\n",
       "        text-align: right;\n",
       "    }\n",
       "</style>\n",
       "<table border=\"1\" class=\"dataframe\">\n",
       "  <thead>\n",
       "    <tr style=\"text-align: right;\">\n",
       "      <th></th>\n",
       "      <th>사상자수</th>\n",
       "    </tr>\n",
       "    <tr>\n",
       "      <th>발생지시도</th>\n",
       "      <th></th>\n",
       "    </tr>\n",
       "  </thead>\n",
       "  <tbody>\n",
       "    <tr>\n",
       "      <th>강원</th>\n",
       "      <td>214</td>\n",
       "    </tr>\n",
       "    <tr>\n",
       "      <th>경기</th>\n",
       "      <td>824</td>\n",
       "    </tr>\n",
       "    <tr>\n",
       "      <th>경남</th>\n",
       "      <td>248</td>\n",
       "    </tr>\n",
       "    <tr>\n",
       "      <th>경북</th>\n",
       "      <td>287</td>\n",
       "    </tr>\n",
       "    <tr>\n",
       "      <th>광주</th>\n",
       "      <td>87</td>\n",
       "    </tr>\n",
       "    <tr>\n",
       "      <th>대구</th>\n",
       "      <td>115</td>\n",
       "    </tr>\n",
       "    <tr>\n",
       "      <th>대전</th>\n",
       "      <td>61</td>\n",
       "    </tr>\n",
       "    <tr>\n",
       "      <th>부산</th>\n",
       "      <td>107</td>\n",
       "    </tr>\n",
       "    <tr>\n",
       "      <th>서울</th>\n",
       "      <td>197</td>\n",
       "    </tr>\n",
       "    <tr>\n",
       "      <th>세종</th>\n",
       "      <td>17</td>\n",
       "    </tr>\n",
       "    <tr>\n",
       "      <th>울산</th>\n",
       "      <td>73</td>\n",
       "    </tr>\n",
       "    <tr>\n",
       "      <th>인천</th>\n",
       "      <td>66</td>\n",
       "    </tr>\n",
       "    <tr>\n",
       "      <th>전남</th>\n",
       "      <td>298</td>\n",
       "    </tr>\n",
       "    <tr>\n",
       "      <th>전북</th>\n",
       "      <td>244</td>\n",
       "    </tr>\n",
       "    <tr>\n",
       "      <th>제주</th>\n",
       "      <td>50</td>\n",
       "    </tr>\n",
       "    <tr>\n",
       "      <th>충남</th>\n",
       "      <td>351</td>\n",
       "    </tr>\n",
       "    <tr>\n",
       "      <th>충북</th>\n",
       "      <td>261</td>\n",
       "    </tr>\n",
       "  </tbody>\n",
       "</table>\n",
       "</div>"
      ],
      "text/plain": [
       "       사상자수\n",
       "발생지시도      \n",
       "강원      214\n",
       "경기      824\n",
       "경남      248\n",
       "경북      287\n",
       "광주       87\n",
       "대구      115\n",
       "대전       61\n",
       "부산      107\n",
       "서울      197\n",
       "세종       17\n",
       "울산       73\n",
       "인천       66\n",
       "전남      298\n",
       "전북      244\n",
       "제주       50\n",
       "충남      351\n",
       "충북      261"
      ]
     },
     "execution_count": 39,
     "metadata": {},
     "output_type": "execute_result"
    }
   ],
   "source": [
    "result"
   ]
  },
  {
   "cell_type": "code",
   "execution_count": 40,
   "id": "a25454d3",
   "metadata": {},
   "outputs": [],
   "source": [
    "y = result.values"
   ]
  },
  {
   "cell_type": "code",
   "execution_count": 55,
   "id": "53452b1b",
   "metadata": {},
   "outputs": [],
   "source": [
    "x = result.index"
   ]
  },
  {
   "cell_type": "code",
   "execution_count": 45,
   "id": "e49c2233",
   "metadata": {},
   "outputs": [
    {
     "data": {
      "text/plain": [
       "array([[214],\n",
       "       [824],\n",
       "       [248],\n",
       "       [287],\n",
       "       [ 87],\n",
       "       [115],\n",
       "       [ 61],\n",
       "       [107],\n",
       "       [197],\n",
       "       [ 17],\n",
       "       [ 73],\n",
       "       [ 66],\n",
       "       [298],\n",
       "       [244],\n",
       "       [ 50],\n",
       "       [351],\n",
       "       [261]], dtype=int64)"
      ]
     },
     "execution_count": 45,
     "metadata": {},
     "output_type": "execute_result"
    }
   ],
   "source": [
    "y"
   ]
  },
  {
   "cell_type": "code",
   "execution_count": 46,
   "id": "acdb3989",
   "metadata": {},
   "outputs": [],
   "source": [
    "x = range(0, len(x))"
   ]
  },
  {
   "cell_type": "code",
   "execution_count": 53,
   "id": "17a712eb",
   "metadata": {},
   "outputs": [
    {
     "data": {
      "text/plain": [
       "range(0, 17)"
      ]
     },
     "execution_count": 53,
     "metadata": {},
     "output_type": "execute_result"
    }
   ],
   "source": [
    "x"
   ]
  },
  {
   "cell_type": "code",
   "execution_count": 48,
   "id": "29e23a29",
   "metadata": {},
   "outputs": [],
   "source": [
    "# 2차원 배열로 존재하는 y값 1차원 배열로 수정하기 !\n",
    "list1 = []\n",
    "\n",
    "\n",
    "for i in range(len(y)):\n",
    "    list1.append(y[i][0])"
   ]
  },
  {
   "cell_type": "code",
   "execution_count": 52,
   "id": "ef48ad5f",
   "metadata": {},
   "outputs": [],
   "source": [
    "y = list1"
   ]
  },
  {
   "cell_type": "code",
   "execution_count": 58,
   "id": "6df16810",
   "metadata": {},
   "outputs": [
    {
     "data": {
      "image/png": "[encoded data removed]",
      "text/plain": [
       "<Figure size 1080x576 with 1 Axes>"
      ]
     },
     "metadata": {
      "needs_background": "light"
     },
     "output_type": "display_data"
    }
   ],
   "source": [
    "# 그래프의 크기 키우기\n",
    "plt.figure(figsize = (15, 8))\n",
    "plt.bar(x, y)\n",
    "plt.show()"
   ]
  },
  {
   "cell_type": "code",
   "execution_count": null,
   "id": "80c37fb6",
   "metadata": {},
   "outputs": [],
   "source": [
    "# 0~2, 3~5, 6~8, 9~11, 12~14, 15~17, 18~20, 21~23\n"
   ]
  },
  {
   "cell_type": "code",
   "execution_count": 60,
   "id": "d3c611ad",
   "metadata": {},
   "outputs": [],
   "source": [
    "time = data['발생년월일시']"
   ]
  },
  {
   "cell_type": "code",
   "execution_count": 63,
   "id": "7633de14",
   "metadata": {},
   "outputs": [],
   "source": [
    "time = time%100"
   ]
  },
  {
   "cell_type": "code",
   "execution_count": 64,
   "id": "54e387ac",
   "metadata": {},
   "outputs": [
    {
     "data": {
      "text/plain": [
       "0         0~2\n",
       "1         0~2\n",
       "2         0~2\n",
       "3         0~2\n",
       "4         3~5\n",
       "        ...  \n",
       "4060    18~20\n",
       "4061    18~20\n",
       "4062    18~20\n",
       "4063    18~20\n",
       "4064    21~23\n",
       "Name: 발생년월일시, Length: 4065, dtype: category\n",
       "Categories (8, object): ['0~2' < '3~5' < '6~8' < '9~11' < '12~14' < '15~17' < '18~20' < '21~23']"
      ]
     },
     "execution_count": 64,
     "metadata": {},
     "output_type": "execute_result"
    }
   ],
   "source": [
    "bins = [-1,2,5,8,11,14,17,20,23]\n",
    "lb = [ '0~2', '3~5', '6~8', '9~11', '12~14', '15~17', '18~20', '21~23']\n",
    "\n",
    "result = pd.cut(time, bins, labels = lb)\n",
    "result"
   ]
  },
  {
   "cell_type": "code",
   "execution_count": 69,
   "id": "f4f17d47",
   "metadata": {},
   "outputs": [
    {
     "data": {
      "text/plain": [
       "18~20    692\n",
       "15~17    550\n",
       "9~11     526\n",
       "21~23    494\n",
       "12~14    472\n",
       "6~8      466\n",
       "3~5      444\n",
       "0~2      421\n",
       "Name: 발생년월일시, dtype: int64"
      ]
     },
     "execution_count": 69,
     "metadata": {},
     "output_type": "execute_result"
    }
   ],
   "source": [
    "rs = result.value_counts()\n",
    "rs"
   ]
  },
  {
   "cell_type": "code",
   "execution_count": 81,
   "id": "af27bf7e",
   "metadata": {},
   "outputs": [
    {
     "data": {
      "image/png": "[encoded data removed]",
      "text/plain": [
       "<Figure size 432x288 with 1 Axes>"
      ]
     },
     "metadata": {},
     "output_type": "display_data"
    }
   ],
   "source": [
    "# 파이 차트 그리기\n",
    "color = ['red','orange','yellow','green','blue','purple','pink','white']\n",
    "\n",
    "plt.pie(rs, labels = lb, textprops = {'fontsize':14}, autopct = '%1.1f%%', colors = color)\n",
    "plt.show()"
   ]
  },
  {
   "cell_type": "code",
   "execution_count": null,
   "id": "412790c2",
   "metadata": {},
   "outputs": [],
   "source": []
  },
  {
   "cell_type": "code",
   "execution_count": null,
   "id": "577242d9",
   "metadata": {},
   "outputs": [],
   "source": []
  },
  {
   "cell_type": "code",
   "execution_count": null,
   "id": "6b585895",
   "metadata": {},
   "outputs": [],
   "source": []
  },
  {
   "cell_type": "code",
   "execution_count": null,
   "id": "5ba49803",
   "metadata": {},
   "outputs": [],
   "source": []
  },
  {
   "cell_type": "code",
   "execution_count": null,
   "id": "2366e1ae",
   "metadata": {},
   "outputs": [],
   "source": []
  },
  {
   "cell_type": "code",
   "execution_count": null,
   "id": "61da9d3f",
   "metadata": {},
   "outputs": [],
   "source": []
  },
  {
   "cell_type": "code",
   "execution_count": null,
   "id": "46624592",
   "metadata": {},
   "outputs": [],
   "source": []
  },
  {
   "cell_type": "code",
   "execution_count": null,
   "id": "76265561",
   "metadata": {},
   "outputs": [],
   "source": []
  }
 ],
 "metadata": {
  "kernelspec": {
   "display_name": "Python 3 (ipykernel)",
   "language": "python",
   "name": "python3"
  },
  "language_info": {
   "codemirror_mode": {
    "name": "ipython",
    "version": 3
   },
   "file_extension": ".py",
   "mimetype": "text/x-python",
   "name": "python",
   "nbconvert_exporter": "python",
   "pygments_lexer": "ipython3",
   "version": "3.9.7"
  }
 },
 "nbformat": 4,
 "nbformat_minor": 5
}
